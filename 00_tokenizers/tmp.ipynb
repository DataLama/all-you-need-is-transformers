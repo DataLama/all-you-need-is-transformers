{
 "cells": [
  {
   "cell_type": "code",
   "execution_count": null,
   "metadata": {},
   "outputs": [],
   "source": [
    "# tokenizer\n",
    "logging.info(\"Now Train ko tokenizer\")\n",
    "ko_path = data_dir / 'ko'\n",
    "if not os.path.exists(ko_path):\n",
    "    os.mkdir(ko_path)\n",
    "with open(ko_path / 'tokenizer_train_ko.txt', 'w', encoding='utf-8') as f:\n",
    "    for line in df['ko'].tolist():\n",
    "        print(line, file=f)\n",
    "\n",
    "tokenizer = BertWordPieceTokenizer(\n",
    "                        vocab_file=None,\n",
    "                        clean_text=True,\n",
    "                        handle_chinese_chars=True,\n",
    "                        strip_accents=False, # Must be False if cased model\n",
    "                        lowercase=False,\n",
    "                        wordpieces_prefix=\"##\"\n",
    ")\n",
    "\n",
    "tokenizer.train(\n",
    "    # tokenizers 같은 경우 rust 코드를 python으로 wrapping했기 때문 경로 관련 정보는 반드시 str으로 넘겨줘. \n",
    "        files=[f\"{ko_path}/tokenizer_train_ko.txt\"], \n",
    "        vocab_size= 32000,\n",
    "        limit_alphabet = 6000,\n",
    "        show_progress=True)\n",
    "tokenizer.save(f\"{ko_path}\")\n",
    "\n",
    "logging.info(\"Now Train en tokenizer\")\n",
    "en_path = data_dir / 'en'\n",
    "if not os.path.exists(en_path):\n",
    "    os.mkdir(en_path)\n",
    "with open(en_path / 'tokenizer_train_en.txt', 'w', encoding='utf-8') as f:\n",
    "    for line in df['en'].tolist():\n",
    "        print(line, file=f)\n",
    "\n",
    "tokenizer = BertWordPieceTokenizer(\n",
    "                        vocab_file=None,\n",
    "                        clean_text=True,\n",
    "                        handle_chinese_chars=True,\n",
    "                        strip_accents=False, # Must be False if cased model\n",
    "                        lowercase=False,\n",
    "                        wordpieces_prefix=\"##\"\n",
    ")\n",
    "tokenizer.train(\n",
    "        files=[f\"{en_path}/tokenizer_train_en.txt\"],\n",
    "        vocab_size= 32000,\n",
    "        limit_alphabet = 6000,\n",
    "        show_progress=True)\n",
    "tokenizer.save(f\"{en_path}\")\n",
    "\n",
    "logging.info(\"all process is finished SUCCESS!!!\")"
   ]
  },
  {
   "cell_type": "code",
   "execution_count": 2,
   "metadata": {},
   "outputs": [],
   "source": [
    "import os"
   ]
  },
  {
   "cell_type": "code",
   "execution_count": 4,
   "metadata": {},
   "outputs": [
    {
     "name": "stdout",
     "output_type": "stream",
     "text": [
      "Python 3.6.9\n"
     ]
    }
   ],
   "source": [
    "!python --version"
   ]
  }
 ],
 "metadata": {
  "kernelspec": {
   "display_name": "Python 3",
   "language": "python",
   "name": "python3"
  },
  "language_info": {
   "codemirror_mode": {
    "name": "ipython",
    "version": 3
   },
   "file_extension": ".py",
   "mimetype": "text/x-python",
   "name": "python",
   "nbconvert_exporter": "python",
   "pygments_lexer": "ipython3",
   "version": "3.6.9"
  }
 },
 "nbformat": 4,
 "nbformat_minor": 4
}
